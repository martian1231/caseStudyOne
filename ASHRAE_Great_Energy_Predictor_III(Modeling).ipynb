{
 "cells": [
  {
   "cell_type": "markdown",
   "metadata": {},
   "source": [
    "# Overview\n",
    "The idea here is simple, we split the dataset into parts and train two gradient boosting model lightGBM taking each split as validation set only once (just like K fold cross validation where K = 2). We add some features based on the public kernel found on kaggle which helped us to reduce overfitting. More information is given in the \"akashkewar\\@gmail.com_CS1.pdf\" file"
   ]
  },
  {
   "cell_type": "code",
   "execution_count": 3,
   "metadata": {
    "_cell_guid": "b1076dfc-b9ad-4769-8c92-a6c4dae69d19",
    "_uuid": "8f2839f25d086af736a60e9eeb907d3b93b6e0e5"
   },
   "outputs": [],
   "source": [
    "# importing dependencies\n",
    "import numpy as np\n",
    "import pandas as pd\n",
    "import os\n",
    "import pickle\n",
    "import random\n",
    "from sklearn.preprocessing import LabelEncoder\n",
    "from pandas.api.types import is_datetime64_any_dtype as is_datetime\n",
    "from pandas.api.types import is_categorical_dtype\n",
    "import lightgbm as lgb\n",
    "import gc\n",
    "import lightgbm as lgb\n",
    "import matplotlib.pyplot as plt\n",
    "import seaborn as sns\n",
    "\n",
    "\n",
    "# path to files\n",
    "path = \"/kaggle/input/ashrae-energy-prediction/\"\n",
    "path_train = path + \"train.csv\"\n",
    "path_test = path + \"test.csv\"\n",
    "path_building = path + \"building_metadata.csv\"\n",
    "path_weather_train = path + \"weather_train.csv\"\n",
    "path_weather_test = path + \"weather_test.csv\"\n",
    "\n",
    "# random seed to reproduce the results\n",
    "random.seed(0)"
   ]
  },
  {
   "cell_type": "markdown",
   "metadata": {},
   "source": [
    "# Utility Functions\n",
    "Functions that are frequently used like saving object into the memory, parsing datetime object, merging two dataframes and reducing the memory usage by dataframe object."
   ]
  },
  {
   "cell_type": "code",
   "execution_count": 4,
   "metadata": {
    "_cell_guid": "79c7e3d0-c299-4dcb-8224-4455121ee9b0",
    "_uuid": "d629ff2d2480ee46fbb7e2d37f6b5fab8052498a"
   },
   "outputs": [],
   "source": [
    "def save_object(obj, filename):\n",
    "  \"\"\"Save the object into the disk\"\"\"\n",
    "  \n",
    "  dirname = os.path.dirname(filename)\n",
    "  if not os.path.exists(dirname):\n",
    "    os.makedirs(dirname)\n",
    "  \n",
    "  with open(filename, 'wb') as output: \n",
    "    pickle.dump(obj, output, pickle.HIGHEST_PROTOCOL)\n",
    "\n",
    "def load_object(filename):\n",
    "  \"\"\"Load the object into the disk\"\"\"\n",
    "  with open(filename, 'rb') as output:\n",
    "    return pickle.load(output)\n",
    "\n",
    "def add_time_features(df):\n",
    "    \"\"\"Add date time features by parsing timestamp\"\"\"\n",
    "    # add dayofyear column\n",
    "    df[\"dayofyear\"] = df.timestamp.dt.dayofyear\n",
    "    # add day column\n",
    "    df[\"day\"] = df.timestamp.dt.day\n",
    "    # add week column\n",
    "    df[\"weekday\"] = df.timestamp.dt.weekday\n",
    "    # add hour column\n",
    "    df[\"hour\"] = df.timestamp.dt.hour\n",
    "    # add month column\n",
    "    df[\"month\"] = df.timestamp.dt.month\n",
    "    # add weekend column\n",
    "    df[\"weekend\"] = df.timestamp.dt.weekday.apply(lambda x: 0 if x <5 else 1)\n",
    "\n",
    "def merge_all(df, weather_df, building_meta_df):\n",
    "  \"\"\"Merge all data\"\"\"\n",
    "  # merge train and bulding meta data on building id\n",
    "  merged = df.merge(building_meta_df,\n",
    "                    how= \"left\",\n",
    "                    on= [\"building_id\"])\n",
    "  \n",
    "  # merge last merged df with weather data\n",
    "  df_merged = merged.merge(weather_df, how= \"left\",\n",
    "                           on= [\"site_id\", \"timestamp\"])\n",
    "  # clean up\n",
    "  del df, weather_df, building_meta_df, merged\n",
    "  gc.collect()\n",
    "\n",
    "  return df_merged\n",
    "\n",
    "# Original code from  https://www.kaggle.com/gemartin/load-data-reduce-memory-usage by @gemartin\n",
    "def reduce_mem_usage(df, use_float16=False):\n",
    "    \"\"\"\n",
    "    Iterate through all the columns of a dataframe and modify the data type to reduce memory usage.        \n",
    "    \"\"\"\n",
    "    \n",
    "    start_mem = df.memory_usage().sum() / 1024**2\n",
    "    # print(\"Memory usage of dataframe is {:.2f} MB\".format(start_mem))\n",
    "    \n",
    "    for col in df.columns:\n",
    "        if is_datetime(df[col]) or is_categorical_dtype(df[col]):\n",
    "            continue\n",
    "        col_type = df[col].dtype\n",
    "        \n",
    "        if col_type != object:\n",
    "            c_min = df[col].min()\n",
    "            c_max = df[col].max()\n",
    "            if str(col_type)[:3] == \"int\":\n",
    "                if c_min > np.iinfo(np.int8).min and c_max < np.iinfo(np.int8).max:\n",
    "                    df[col] = df[col].astype(np.int8)\n",
    "                elif c_min > np.iinfo(np.int16).min and c_max < np.iinfo(np.int16).max:\n",
    "                    df[col] = df[col].astype(np.int16)\n",
    "                elif c_min > np.iinfo(np.int32).min and c_max < np.iinfo(np.int32).max:\n",
    "                    df[col] = df[col].astype(np.int32)\n",
    "                elif c_min > np.iinfo(np.int64).min and c_max < np.iinfo(np.int64).max:\n",
    "                    df[col] = df[col].astype(np.int64)  \n",
    "            else:\n",
    "                if use_float16 and c_min > np.finfo(np.float16).min and c_max < np.finfo(np.float16).max:\n",
    "                    df[col] = df[col].astype(np.float16)\n",
    "                elif c_min > np.finfo(np.float32).min and c_max < np.finfo(np.float32).max:\n",
    "                    df[col] = df[col].astype(np.float32)\n",
    "                else:\n",
    "                    df[col] = df[col].astype(np.float64)\n",
    "        else:\n",
    "            df[col] = df[col].astype(\"category\")\n",
    "\n",
    "    end_mem = df.memory_usage().sum() / 1024**2\n",
    "    print(\"Memory usage after optimization is: {:.2f} MB\".format(end_mem))\n",
    "    print(\"Decreased by {:.1f}%\".format(100 * (start_mem - end_mem) / start_mem))"
   ]
  },
  {
   "cell_type": "markdown",
   "metadata": {},
   "source": [
    "# Loading The Data\n",
    "Loading the train data and reduce the memory used by dataframe, label encode all the non-numeric columns."
   ]
  },
  {
   "cell_type": "code",
   "execution_count": 5,
   "metadata": {},
   "outputs": [
    {
     "name": "stdout",
     "output_type": "stream",
     "text": [
      "Memory usage after optimization is: 173.90 MB\n",
      "Decreased by 71.8%\n",
      "Memory usage after optimization is: 0.02 MB\n",
      "Decreased by 73.8%\n",
      "Memory usage after optimization is: 2.65 MB\n",
      "Decreased by 72.4%\n"
     ]
    }
   ],
   "source": [
    "# load training data in dataframes\n",
    "df_train = pd.read_csv(path_train)\n",
    "df_building = pd.read_csv(path_building)\n",
    "df_weather_train = pd.read_csv(path_weather_train)\n",
    "\n",
    "# reducing memory usages\n",
    "reduce_mem_usage(df_train, use_float16=True)\n",
    "reduce_mem_usage(df_building, use_float16=True)\n",
    "reduce_mem_usage(df_weather_train, use_float16=True)\n",
    "\n",
    "# converting non-numeric data to numeric form\n",
    "le = LabelEncoder()\n",
    "df_building.primary_use = le.fit_transform(df_building.primary_use)"
   ]
  },
  {
   "cell_type": "markdown",
   "metadata": {},
   "source": [
    "# Preprocessing And Feature Engineering\n",
    "Add features, merge dataframes, apply transformations, dropping redundent columns."
   ]
  },
  {
   "cell_type": "code",
   "execution_count": 6,
   "metadata": {},
   "outputs": [],
   "source": [
    "def preprocessing(df, df_building, df_weather, test=False):\n",
    "    \"\"\"\n",
    "    Making dataset ready to be fed into the ML model\n",
    "    \"\"\"\n",
    "    # merge all three dataframe\n",
    "    df = df.merge(df_building, on=\"building_id\", how=\"left\")\n",
    "    df = df.merge(df_weather, on=[\"site_id\", \"timestamp\"], how=\"left\")\n",
    "    \n",
    "    # apply log1p to the area (making it more normal and dealing with extreme values)\n",
    "    df.square_feet = np.log1p(df.square_feet)\n",
    "    \n",
    "    # sort the training dataframe timewise\n",
    "    if not test:\n",
    "        df.sort_values(\"timestamp\", inplace=True)\n",
    "        df.reset_index(drop= True, inplace=True)\n",
    "\n",
    "    \n",
    "    # change the dataformat to ease the operations\n",
    "    df.timestamp = pd.to_datetime(df.timestamp, format=\"%Y-%m-%d %H:%M:%S\")\n",
    "    \n",
    "    # call the garbage collector\n",
    "    gc.collect()\n",
    "    \n",
    "    # add time features by parsing time stamp\n",
    "    add_time_features(df)\n",
    "    '''\n",
    "    ***************************************************************************/\n",
    "    \\*  Title: [3rd Place] Solution\n",
    "    \\*  Author: eagle4\n",
    "    \\*  Date: 2011\n",
    "    \\*  Code version: N/A\n",
    "    \\*  Availability: https://www.kaggle.com/c/ashrae-energy-prediction/discussion/124984\n",
    "    '''\n",
    "    ##############################################################\n",
    "    \n",
    "    \"\"\"\n",
    "    \"It is supposed to calculate the solar horizontal radiation coming into the building\"\n",
    "    \"\"\"\n",
    "    \n",
    "    latitude_dict = {0 :28.5383,\n",
    "                    1 :50.9097,\n",
    "                    2 :33.4255,\n",
    "                    3 :38.9072,\n",
    "                    4 :37.8715,\n",
    "                    5 :50.9097,\n",
    "                    6 :40.7128,\n",
    "                    7 :45.4215,\n",
    "                    8 :28.5383,\n",
    "                    9 :30.2672,\n",
    "                    10 :40.10677,\n",
    "                    11 :45.4215,\n",
    "                    12 :53.3498,\n",
    "                    13 :44.9375,\n",
    "                    14 :38.0293,\n",
    "                    15: 40.7128}\n",
    "\n",
    "    df['latitude'] = df['site_id'].map(latitude_dict)\n",
    "    df['solarHour'] = (df['hour']-12)*15 # to be removed\n",
    "    df['solarDec'] = -23.45*np.cos(np.deg2rad(360*(df['day']+10)/365)) # to be removed\n",
    "    df['horizsolar'] = np.cos(np.deg2rad(df['solarHour']))*np.cos(np.deg2rad(df['solarDec']))*np.cos(np.deg2rad(df['latitude'])) + np.sin(np.deg2rad(df['solarDec']))*np.sin(np.deg2rad(df['latitude']))\n",
    "    df['horizsolar'] = df['horizsolar'].apply(lambda x: 0 if x <0 else x)\n",
    "    \n",
    "    ##############################################################\n",
    "    \n",
    "    # Holiday feature\n",
    "    holidays = [\"2016-01-01\", \"2016-01-18\", \"2016-02-15\", \"2016-05-30\", \"2016-07-04\",\n",
    "                \"2016-09-05\", \"2016-10-10\", \"2016-11-11\", \"2016-11-24\", \"2016-12-26\",\n",
    "                \"2017-01-01\", \"2017-01-16\", \"2017-02-20\", \"2017-05-29\", \"2017-07-04\",\n",
    "                \"2017-09-04\", \"2017-10-09\", \"2017-11-10\", \"2017-11-23\", \"2017-12-25\",\n",
    "                \"2018-01-01\", \"2018-01-15\", \"2018-02-19\", \"2018-05-28\", \"2018-07-04\",\n",
    "                \"2018-09-03\", \"2018-10-08\", \"2018-11-12\", \"2018-11-22\", \"2018-12-25\",\n",
    "                \"2019-01-01\"]\n",
    "    df[\"is_holiday\"] = df.timestamp.dt.date.astype(\"str\").isin(holidays).astype(int)\n",
    "        \n",
    "    # Drop redundent columns\n",
    "    '''\n",
    "    Drop the columns which contains lots of missing values and have\n",
    "    less or no effect on predicting the target\n",
    "    '''\n",
    "    drop_features = [\"timestamp\", 'floor_count', 'year_built']\n",
    "    df.drop(drop_features, axis=1, inplace=True)\n",
    "    \n",
    "    # If test dataframe, return rows ids and test dataframe\n",
    "    if test:\n",
    "        row_ids = df.pop(\"row_id\")\n",
    "        return df, row_ids\n",
    "    \n",
    "    # If train dataframe, return target and train dataframe\n",
    "    else:\n",
    "        # Select building 1099 meter 2 and remove the rows from the dataset\n",
    "        df.drop(df[(df.meter == 2) & (df.building_id == 1099)].index, axis= \"index\", inplace=True)\n",
    "        \n",
    "        # Get the target and apply log transformation scaled by the building area\n",
    "        y = np.log1p(df.pop(\"meter_reading\")/df.square_feet) # https://www.kaggle.com/c/ashrae-energy-prediction/discussion/124709\n",
    "        \n",
    "        return df, y"
   ]
  },
  {
   "cell_type": "code",
   "execution_count": 7,
   "metadata": {},
   "outputs": [
    {
     "data": {
      "text/plain": [
       "153"
      ]
     },
     "execution_count": 7,
     "metadata": {},
     "output_type": "execute_result"
    }
   ],
   "source": [
    "# preprocess train data\n",
    "X_train_df, y_train_df = preprocessing(df_train, df_building, df_weather_train)\n",
    "\n",
    "# del df_train, df_weather_train\n",
    "gc.collect()"
   ]
  },
  {
   "cell_type": "markdown",
   "metadata": {},
   "source": [
    "# Gridsearch To Find Best Hyper Parameter Value\n",
    "\n",
    "We will perform gridsearch manually here by going via each and every values to be searched. We will save each model and parameters onto the disk to facilitate loading the same later."
   ]
  },
  {
   "cell_type": "code",
   "execution_count": null,
   "metadata": {
    "collapsed": true
   },
   "outputs": [],
   "source": [
    "# categorical features list\n",
    "categorical_features = [\"building_id\",\n",
    "     \"site_id\",\n",
    "     \"meter\",\n",
    "     \"primary_use\",\n",
    "     \"hour\",\n",
    "     \"weekday\",\n",
    "     'dayofyear',\n",
    "     'day',\n",
    "     'hour',\n",
    "     'month',\n",
    "     'is_holiday']\n",
    "\n",
    "# split the data into two parts\n",
    "X_1, y_1 = X_train_df[:X_train_df.shape[0]//2], y_train_df[:y_train_df.shape[0]//2]\n",
    "X_2, y_2 = X_train_df[X_train_df.shape[0]//2:], y_train_df[y_train_df.shape[0]//2:]\n",
    "\n",
    "# create dataset object of both the splits\n",
    "dataset_1 = lgb.Dataset(X_1, label=y_1, categorical_feature=categorical_features, free_raw_data=False)\n",
    "dataset_2 = lgb.Dataset(X_2, label=y_2, categorical_feature=categorical_features, free_raw_data=False)\n",
    "\n",
    "\n",
    "# constant parameters for our model\n",
    "params = {}\n",
    "params['boosting_type'] = 'gbdt'\n",
    "params['objective'] = 'regression'\n",
    "params['metric'] = 'rmse'\n",
    "params['verbose'] = 0\n",
    "\n",
    "# number of base learners\n",
    "n_round = 1000\n",
    "\n",
    "# parameters and corresponding values to search\n",
    "num_leaves_list = [40, 80, 90, 512]\n",
    "feature_fraction_list = [0.85, 1]\n",
    "learning_rate_list = [0.05, 0.1, 0.7]\n",
    "reg_lambda_list = [0.1, 2, 10]\n",
    "count = 0\n",
    "\n",
    "'''\n",
    "For each parameter value, train the model and log the stats\n",
    "'''\n",
    "\n",
    "for prms in params_list:\n",
    "    \n",
    "    # number of leaves\n",
    "    params[prms[0]] = leaves\n",
    "    \n",
    "    # feature fraction to train base learner\n",
    "    params[prms[1]] = feature_fraction\n",
    "    \n",
    "    # how fast we wanna learn from the data\n",
    "    params[prms[2]] = learning_rate\n",
    "    \n",
    "    # regularization to prevent overfitting\n",
    "    params[prms[3]] = reg_lambda\n",
    "\n",
    "    print(\"Training first model\")\n",
    "\n",
    "    # train fist model with 1nd split and validate on second\n",
    "    model_1 = lgb.train(params,\n",
    "                        train_set=dataset_1,\n",
    "                        num_boost_round=n_round,\n",
    "                        valid_sets=(dataset_1, dataset_2),\n",
    "                        verbose_eval=200,\n",
    "                        early_stopping_rounds=200)\n",
    "\n",
    "    print(\"Training second model\")\n",
    "\n",
    "    # train second model with 2nd split and validate on first\n",
    "    model_2 = lgb.train(params,\n",
    "                        train_set=dataset_2,\n",
    "                        num_boost_round=n_round,\n",
    "                        valid_sets=(dataset_2, dataset_1),\n",
    "                        verbose_eval=200,\n",
    "                        early_stopping_rounds=200)\n",
    "    \n",
    "    # get the training rmse of both the models\n",
    "    rmse_1_train = model_1.best_score[\"training\"][\"rmse\"]\n",
    "    rmse_2_train = model_2.best_score[\"training\"][\"rmse\"]\n",
    "    \n",
    "    # get the validation rmse of both the models\n",
    "    rmse_1_val = model_1.best_score[\"valid_1\"][\"rmse\"]\n",
    "    rmse_2_val = model_2.best_score[\"valid_1\"][\"rmse\"]\n",
    "\n",
    "    # traning mean\n",
    "    t_mean = (rmse_1_train + rmse_2_train)/2\n",
    "\n",
    "    # validation mean\n",
    "    v_mean = (rmse_1_val + rmse_2_val)/2\n",
    "\n",
    "    # train and validation mean\n",
    "    rmse = (t_mean + v_mean) /2\n",
    "    \n",
    "    # save all the stats into the disk\n",
    "    save_object([count, rmse, params,t_mean, v_mean, model_1, model_2], f\"./count_rmse_params_t_mean_v_mean_model_list_{count}.pkl\")\n",
    "    \n",
    "    # increment the count\n",
    "    count += 1\n",
    "    \n",
    "    # call garbage collector\n",
    "    gc.collect()"
   ]
  },
  {
   "cell_type": "code",
   "execution_count": null,
   "metadata": {},
   "outputs": [],
   "source": [
    "# list to hold gridseach stats\n",
    "count_list = []\n",
    "rmse_list = []\n",
    "params_list = []\n",
    "t_mean_list = []\n",
    "v_mean_list = []\n",
    "model_1_list = []\n",
    "model_2_list = []\n",
    "\n",
    "# load the stats of all 72 models\n",
    "for id_ in range(72):\n",
    "    count, rmse, params,t_mean, v_mean, model_1, model_2 = load_object(f\"../input/ashrae-gridsearch/count_rmse_params_t_mean_v_mean_model_list_{id_}.pkl\")\n",
    "    count_list.append(count)\n",
    "    rmse_list.append(rmse)\n",
    "    params_list.append(params)\n",
    "    t_mean_list.append(t_mean)\n",
    "    v_mean_list.append(v_mean)\n",
    "    model_1_list.append(model_1)\n",
    "    model_2_list.append(model_2)\n",
    "\n",
    "# convert to pandas df\n",
    "df_gs_stats = pd.DataFrame({\"count\": count_list,\n",
    "                            \"t_mean\": t_mean_list,\n",
    "                            \"v_mean\": v_mean_list,\n",
    "                            \"mean_rmse\":rmse_list,\n",
    "                            \"params\": params_list,\n",
    "                            \"model_1\": model_1_list,\n",
    "                            \"model_2\": model_2_list})\n",
    "# save dataframe as pickle file on disk\n",
    "df_gs_stats.to_pickle(\"./gridsearch_stats.pkl\")"
   ]
  },
  {
   "cell_type": "markdown",
   "metadata": {},
   "source": [
    "# Load Gridsearch Stats And Select Best Model\n",
    "Loading all the saved models we had trained in gridsearch phase and select best model based on train and validation loss."
   ]
  },
  {
   "cell_type": "code",
   "execution_count": 8,
   "metadata": {},
   "outputs": [],
   "source": [
    "# load the girdsearch stats file\n",
    "gridsearch_stats = pd.read_pickle(\"../input/df-gridsearch-stats/gridsearch_stats.pkl\")\n",
    "gridsearch_stats.reset_index(drop=True, inplace=True)"
   ]
  },
  {
   "cell_type": "code",
   "execution_count": 9,
   "metadata": {},
   "outputs": [],
   "source": [
    "# we will select model based on training mean and validation mean RMSE (the lower the better)\n",
    "tmp = gridsearch_stats[[\"t_mean\", \"v_mean\"]].copy(deep= True).iloc[:40]\n",
    "\n",
    "# scaling the validation scores for visualization purpose\n",
    "tmp.v_mean = tmp.v_mean/2"
   ]
  },
  {
   "cell_type": "code",
   "execution_count": 16,
   "metadata": {},
   "outputs": [
    {
     "data": {
      "text/plain": [
       "<matplotlib.legend.Legend at 0x7f519054be90>"
      ]
     },
     "execution_count": 16,
     "metadata": {},
     "output_type": "execute_result"
    },
    {
     "data": {
      "image/png": "[encoded data removed]",
      "text/plain": [
       "<Figure size 432x288 with 1 Axes>"
      ]
     },
     "metadata": {},
     "output_type": "display_data"
    }
   ],
   "source": [
    "# draw a line graph to analyse RMSE\n",
    "tmp[[\"t_mean\", \"v_mean\"]].plot()\n",
    "sns.set_style(\"darkgrid\")\n",
    "plt.title(\"Train And Validation RMSE\")\n",
    "plt.xlabel(\"Model Id\")\n",
    "plt.ylabel(\" RMSE\")\n",
    "plt.legend([\"Train loss\"])\n",
    "plt.legend([\"Mean train loss\", \"Mean validation loss\"])"
   ]
  },
  {
   "cell_type": "markdown",
   "metadata": {},
   "source": [
    "Best model seems to be 38th where train and validation loss is at minimum. We will choose 38th model and submit our predictions on test set to get the leaderboard score."
   ]
  },
  {
   "cell_type": "markdown",
   "metadata": {},
   "source": [
    "# Preprocessing Test Data And Making Predictions\n",
    "As test dataset is huge, we will process test data in chunks (10 chunks), get the prediction on each chunk, update the prediction matrix, clear the memory and repeat for each chunk."
   ]
  },
  {
   "cell_type": "code",
   "execution_count": 17,
   "metadata": {},
   "outputs": [],
   "source": [
    "# load test data\n",
    "df_test = pd.read_csv(path_test)\n",
    "df_weather_test = pd.read_csv(path_weather_test)\n",
    "df_building = pd.read_csv(path_building)\n",
    "\n",
    "# reducing memory usages\n",
    "reduce_mem_usage(df_test, use_float16=True)\n",
    "reduce_mem_usage(df_weather_test, use_float16=True)\n",
    "\n",
    "# convert non-numeric data into numeric\n",
    "le = LabelEncoder()\n",
    "df_building.primary_use = le.fit_transform(df_building.primary_use)"
   ]
  },
  {
   "cell_type": "code",
   "execution_count": 18,
   "metadata": {},
   "outputs": [
    {
     "name": "stdout",
     "output_type": "stream",
     "text": [
      "Done 1/10\n",
      "Done 2/10\n",
      "Done 3/10\n",
      "Done 4/10\n",
      "Done 5/10\n",
      "Done 6/10\n",
      "Done 7/10\n",
      "Done 8/10\n",
      "Done 9/10\n",
      "Done 10/10\n"
     ]
    }
   ],
   "source": [
    "# best model id\n",
    "model_id = 38\n",
    "\n",
    "# load the best model we have found after gridsearch\n",
    "model_1 = gridsearch_stats.iloc[model_id].model_1\n",
    "model_2 = gridsearch_stats.iloc[model_id].model_2\n",
    "\n",
    "# number of chunks to divide test set in\n",
    "chunk = 10\n",
    "\n",
    "# total rows in test dataset\n",
    "total_rows = 41697600\n",
    "\n",
    "# holds predictions\n",
    "y_pred = np.zeros(total_rows)\n",
    "\n",
    "# number of rows per chunk\n",
    "n_rows = total_rows//chunk\n",
    "\n",
    "# for each chunk, preprocess the data and save the predictions\n",
    "\n",
    "for i, s in enumerate(range(0, total_rows, n_rows)):\n",
    "    \n",
    "    # get the data for current chunk\n",
    "    df = df_test.iloc[s:s+n_rows].copy(deep= True)\n",
    "    \n",
    "    # preprocess current chunk\n",
    "    X_test, row_ids = preprocessing(df,\n",
    "                                   df_building,\n",
    "                                   df_weather_test,\n",
    "                                   test=True)\n",
    "    \n",
    "    '''\n",
    "    Get the prediction on current chunk using both the models.\n",
    "    We are undoing the log transformation and building area scaling.\n",
    "    '''\n",
    "    y_pred[row_ids] +=  (np.expm1(model_1.predict(X_test, num_iteration=model_1.best_iteration))* X_test.square_feet)/2\n",
    "    y_pred[row_ids] +=  (np.expm1(model_2.predict(X_test, num_iteration=model_2.best_iteration)) * X_test.square_feet)/2\n",
    "    \n",
    "    # clear the memory\n",
    "    del df, X_test, row_ids\n",
    "    gc.collect()\n",
    "    \n",
    "    # update the user\n",
    "    print(f\"Done {i + 1}/{chunk}\")"
   ]
  },
  {
   "cell_type": "markdown",
   "metadata": {},
   "source": [
    "# Making Submission\n",
    "Preparing submission file and submitting it to ASHRAE competition."
   ]
  },
  {
   "cell_type": "code",
   "execution_count": 19,
   "metadata": {},
   "outputs": [
    {
     "name": "stdout",
     "output_type": "stream",
     "text": [
      "mv: cannot remove '../input/apikey/kaggle.json': Read-only file system\n",
      "Warning: Your Kaggle API key is readable by other users on this system! To fix this, you can run 'chmod 600 /root/.kaggle/kaggle.json'\n",
      "Warning: Looks like you're using an outdated API Version, please consider updating (server 1.5.10 / client 1.5.8)\n",
      "100%|██████████████████████████████████████| 1.05G/1.05G [00:32<00:00, 34.5MB/s]\n",
      "Successfully submitted to ASHRAE - Great Energy Predictor III"
     ]
    },
    {
     "data": {
      "text/plain": [
       "0"
      ]
     },
     "execution_count": 19,
     "metadata": {},
     "output_type": "execute_result"
    }
   ],
   "source": [
    "# prepare submission file\n",
    "'''\n",
    "As meter reading cannot be negative, we will clip all the negative values to 0\n",
    "'''\n",
    "submission = pd.DataFrame({\"row_id\": range(total_rows), \"meter_reading\": np.clip(y_pred, a_min=0, a_max=None)})\n",
    "submission.to_csv(\"submission.csv\", index=False)\n",
    "\n",
    "# copy the kaggle api key to the home kaggle directory\n",
    "!mkdir ~/.kaggle/\n",
    "!mv ../input/apikey/kaggle.json ~/.kaggle/\n",
    "\n",
    "# submmit to competition\n",
    "!kaggle competitions submit -c \"ashrae-energy-prediction\" -f \"./submission.csv\" -m \"appliedAIcourse_CS1\"\n",
    "\n",
    "# clear the memory\n",
    "del submission\n",
    "gc.collect()"
   ]
  },
  {
   "attachments": {
    "image.png": {
     "image/png": "[encoded data removed]"
    }
   },
   "cell_type": "markdown",
   "metadata": {},
   "source": [
    "# Submission Results\n",
    "**Here we get private score of 1.322 and public score of 1.137 which is around 85% private score improvement and around 83% public score improvement since last submission which was 1.550 private score and 1.377 public score**.\n",
    "![image.png](attachment:image.png)"
   ]
  }
 ],
 "metadata": {
  "kernelspec": {
   "display_name": "Python 3",
   "language": "python",
   "name": "python3"
  },
  "language_info": {
   "codemirror_mode": {
    "name": "ipython",
    "version": 3
   },
   "file_extension": ".py",
   "mimetype": "text/x-python",
   "name": "python",
   "nbconvert_exporter": "python",
   "pygments_lexer": "ipython3",
   "version": "3.7.4"
  }
 },
 "nbformat": 4,
 "nbformat_minor": 4
}
